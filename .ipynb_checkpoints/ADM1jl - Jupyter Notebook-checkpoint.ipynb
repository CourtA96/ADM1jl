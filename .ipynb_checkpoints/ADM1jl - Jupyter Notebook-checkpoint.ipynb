{
 "cells": [
  {
   "cell_type": "markdown",
   "id": "4bc87980",
   "metadata": {},
   "source": [
    "# ADM1jl - Jupyter Notebook\n",
    "\n",
    "A Jupyter notebook to demonstrate the functionality of ADM1jl, a Julia package that solves the Anaerobic Digestion Model 1.\n"
   ]
  },
  {
   "cell_type": "code",
   "execution_count": 3,
   "id": "cf2e709e",
   "metadata": {},
   "outputs": [
    {
     "name": "stderr",
     "output_type": "stream",
     "text": [
      "┌ Info: Precompiling ADM1jl [fcba7d9c-eb10-42d4-b263-36979bb5b0d2]\n",
      "└ @ Base loading.jl:1423\n",
      "WARNING: Method definition __init__() in module LinearSolve at C:\\Users\\court\\.julia\\packages\\LinearSolve\\tdFx4\\src\\init.jl:1 overwritten at C:\\Users\\court\\.julia\\packages\\LinearSolve\\tdFx4\\src\\LinearSolve.jl:120.\n",
      "  ** incremental compilation may be fatally broken for this module **\n",
      "\n"
     ]
    }
   ],
   "source": [
    "using Pkg\n",
    "# Pkg.add(url=\"https://github.com/CourtA96/ADM1jl\") # uncomment this line to install ADM1jl if it is not already \n",
    "                                                    # installed on your device\n",
    "using ADM1jl"
   ]
  },
  {
   "cell_type": "markdown",
   "id": "458eedc9",
   "metadata": {},
   "source": [
    "## Getting Started\n",
    "\n",
    "To solve ADM1 for a single tank reactor, use `ADM1sol(tspan, u0, IV)` where:\n",
    "- `tspan` is a `Tuple{Float64}` of length 2 that specifies the solution time range\n",
    "- `u0` is a `Vector{Float64}` of length 35 that specifies the initial conditions\n",
    "- `IV` is a `Vector{Float64}` of length 35 that specifies the inflow concentrations\n",
    "\n",
    "The 35 state variables, and their indices, are given in the documentation [here](https://courta96.github.io/ADM1jl/page2/#State-Variables-and-their-Indices). \n",
    "\n",
    "`ADM1sol` uses the `DifferentialEquations` package to solve the system, it returns a `Tuple` of length 2 that \n",
    "\n",
    "To use `ADM1sol`, first ensure that the file `model_parameters.csv` is installed in your working directory. The `model_parameters.csv` file can be found at the github repository [here](https://github.com/CourtA96/ADM1jl/blob/main/model_parameters.csv). If you are unsure of your working directory, run the following cell and the output will be your working directory."
   ]
  },
  {
   "cell_type": "code",
   "execution_count": 4,
   "id": "8b847e82",
   "metadata": {},
   "outputs": [
    {
     "data": {
      "text/plain": [
       "\"C:\\\\Users\\\\court\\\\OneDrive - University of Guelph\\\\PhD\\\\Research\\\\Code\\\\ADM1jl\\\\ADM1jl\""
      ]
     },
     "execution_count": 4,
     "metadata": {},
     "output_type": "execute_result"
    }
   ],
   "source": [
    "pwd()"
   ]
  },
  {
   "cell_type": "markdown",
   "id": "ad253d07",
   "metadata": {},
   "source": [
    "Once `model_parameters.csv` is saved to your working directory, the `ADM1sol` function can be run."
   ]
  },
  {
   "cell_type": "code",
   "execution_count": 10,
   "id": "664415e9",
   "metadata": {},
   "outputs": [],
   "source": [
    "u0 = ADM1jl.InitialConditions(); # The default initial condtions\n",
    "IV = ADM1jl.inflowvector_definition(); # The default inflow concentrations\n",
    "tspan = (0.0,1.0); # The solution for one day\n",
    "\n",
    "sol,tSol = ADM1sol(tspan,u0,IV); # solving the system for tspan, u0, and IV "
   ]
  },
  {
   "cell_type": "markdown",
   "id": "2b9850af",
   "metadata": {},
   "source": [
    "When you call `ADM1sol` for the first time, it will be slower since it is being compiled. After this initial call, it will be considerably faster. Look at the following example."
   ]
  },
  {
   "cell_type": "code",
   "execution_count": 16,
   "id": "a8d9d460",
   "metadata": {},
   "outputs": [
    {
     "name": "stdout",
     "output_type": "stream",
     "text": [
      "The initial runtime is: 33.0243058\n",
      "The time for the second run is: 0.2261145\n",
      "and the time for the third run (with new condtions) is: 0.214543\n"
     ]
    }
   ],
   "source": [
    "sol2,tSol2 = ADM1sol(tspan,u0,IV);\n",
    "\n",
    "sol3,tSol3 = ADM1sol((0.0,200.0), 2*u0, 1.5*IV);\n",
    "\n",
    "println(\"The initial runtime is: \", tSol, \"\\nThe time for the second run is: \", tSol2, \"\\nand the time for the third run (with new condtions) is: \", tSol3)"
   ]
  },
  {
   "cell_type": "markdown",
   "id": "afe70277",
   "metadata": {},
   "source": [
    "The inital runtime was approximately 33 seconds. However, the subsequent runtimes were approximately 0.2 seconds, even when the timespan of the solution increased from 1.0 day to 200.0 days."
   ]
  },
  {
   "cell_type": "code",
   "execution_count": null,
   "id": "2addf493",
   "metadata": {},
   "outputs": [],
   "source": []
  }
 ],
 "metadata": {
  "kernelspec": {
   "display_name": "Julia 1.7.3",
   "language": "julia",
   "name": "julia-1.7"
  },
  "language_info": {
   "file_extension": ".jl",
   "mimetype": "application/julia",
   "name": "julia",
   "version": "1.7.3"
  }
 },
 "nbformat": 4,
 "nbformat_minor": 5
}
